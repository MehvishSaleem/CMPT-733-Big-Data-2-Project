{
 "cells": [
  {
   "cell_type": "code",
   "execution_count": 88,
   "metadata": {
    "collapsed": true
   },
   "outputs": [],
   "source": [
    "import pandas as pd\n",
    "from datetime import datetime\n",
    "import numpy as np\n",
    "import matplotlib.pyplot as plt"
   ]
  },
  {
   "cell_type": "code",
   "execution_count": 92,
   "metadata": {},
   "outputs": [],
   "source": [
    "# df = pd.read_csv('Facebook Data/predictions/Final_Predictions/News_Predictions.csv')\n",
    "df = pd.read_csv('Facebook Data/predictions/Final_Predictions/cnn_Predictions.csv')"
   ]
  },
  {
   "cell_type": "code",
   "execution_count": 94,
   "metadata": {},
   "outputs": [
    {
     "data": {
      "text/plain": [
       "(580583, 4)"
      ]
     },
     "execution_count": 94,
     "metadata": {},
     "output_type": "execute_result"
    }
   ],
   "source": [
    "df.shape\n",
    "# df['predictions'] = np.random.randint(0, 3, df.shape[0])"
   ]
  },
  {
   "cell_type": "code",
   "execution_count": 95,
   "metadata": {
    "collapsed": true
   },
   "outputs": [],
   "source": [
    "def convertTime(row):\n",
    "    date = row.comment_published\n",
    "    dateObj = datetime.strptime(date, '%Y-%m-%d %H:%M:%S').date()\n",
    "    return (dateObj.year,dateObj.month)\n",
    "df['comment_published']=df.apply(convertTime,axis=1)"
   ]
  },
  {
   "cell_type": "code",
   "execution_count": 96,
   "metadata": {
    "collapsed": true
   },
   "outputs": [],
   "source": [
    "df2 = df.groupby('comment_published').comment_published.count().to_frame()"
   ]
  },
  {
   "cell_type": "code",
   "execution_count": 97,
   "metadata": {},
   "outputs": [],
   "source": [
    "df2['toxicity'] = df[df['prediction'] > 0].groupby('comment_published').prediction.count()"
   ]
  },
  {
   "cell_type": "code",
   "execution_count": 98,
   "metadata": {
    "collapsed": true
   },
   "outputs": [],
   "source": [
    "df2['toxicity_rate'] = (df2['toxicity']/df2['comment_published'])*100"
   ]
  },
  {
   "cell_type": "code",
   "execution_count": 99,
   "metadata": {},
   "outputs": [
    {
     "data": {
      "text/html": [
       "<div>\n",
       "<style>\n",
       "    .dataframe thead tr:only-child th {\n",
       "        text-align: right;\n",
       "    }\n",
       "\n",
       "    .dataframe thead th {\n",
       "        text-align: left;\n",
       "    }\n",
       "\n",
       "    .dataframe tbody tr th {\n",
       "        vertical-align: top;\n",
       "    }\n",
       "</style>\n",
       "<table border=\"1\" class=\"dataframe\">\n",
       "  <thead>\n",
       "    <tr style=\"text-align: right;\">\n",
       "      <th></th>\n",
       "      <th>comment_published</th>\n",
       "      <th>toxicity</th>\n",
       "      <th>toxicity_rate</th>\n",
       "    </tr>\n",
       "    <tr>\n",
       "      <th>comment_published</th>\n",
       "      <th></th>\n",
       "      <th></th>\n",
       "      <th></th>\n",
       "    </tr>\n",
       "  </thead>\n",
       "  <tbody>\n",
       "    <tr>\n",
       "      <th>(2017, 1)</th>\n",
       "      <td>17960</td>\n",
       "      <td>2822</td>\n",
       "      <td>15.712695</td>\n",
       "    </tr>\n",
       "    <tr>\n",
       "      <th>(2017, 2)</th>\n",
       "      <td>176336</td>\n",
       "      <td>25839</td>\n",
       "      <td>14.653276</td>\n",
       "    </tr>\n",
       "    <tr>\n",
       "      <th>(2017, 3)</th>\n",
       "      <td>20832</td>\n",
       "      <td>1593</td>\n",
       "      <td>7.646889</td>\n",
       "    </tr>\n",
       "    <tr>\n",
       "      <th>(2017, 4)</th>\n",
       "      <td>10642</td>\n",
       "      <td>1839</td>\n",
       "      <td>17.280586</td>\n",
       "    </tr>\n",
       "    <tr>\n",
       "      <th>(2017, 5)</th>\n",
       "      <td>95970</td>\n",
       "      <td>15436</td>\n",
       "      <td>16.084193</td>\n",
       "    </tr>\n",
       "    <tr>\n",
       "      <th>(2017, 6)</th>\n",
       "      <td>18693</td>\n",
       "      <td>2613</td>\n",
       "      <td>13.978495</td>\n",
       "    </tr>\n",
       "    <tr>\n",
       "      <th>(2017, 7)</th>\n",
       "      <td>14566</td>\n",
       "      <td>2316</td>\n",
       "      <td>15.900041</td>\n",
       "    </tr>\n",
       "    <tr>\n",
       "      <th>(2017, 8)</th>\n",
       "      <td>31564</td>\n",
       "      <td>2661</td>\n",
       "      <td>8.430490</td>\n",
       "    </tr>\n",
       "    <tr>\n",
       "      <th>(2017, 9)</th>\n",
       "      <td>93010</td>\n",
       "      <td>10122</td>\n",
       "      <td>10.882701</td>\n",
       "    </tr>\n",
       "    <tr>\n",
       "      <th>(2017, 10)</th>\n",
       "      <td>11513</td>\n",
       "      <td>1579</td>\n",
       "      <td>13.714931</td>\n",
       "    </tr>\n",
       "    <tr>\n",
       "      <th>(2017, 11)</th>\n",
       "      <td>57172</td>\n",
       "      <td>11051</td>\n",
       "      <td>19.329392</td>\n",
       "    </tr>\n",
       "    <tr>\n",
       "      <th>(2017, 12)</th>\n",
       "      <td>31143</td>\n",
       "      <td>3728</td>\n",
       "      <td>11.970587</td>\n",
       "    </tr>\n",
       "    <tr>\n",
       "      <th>(2018, 1)</th>\n",
       "      <td>1003</td>\n",
       "      <td>97</td>\n",
       "      <td>9.670987</td>\n",
       "    </tr>\n",
       "    <tr>\n",
       "      <th>(2018, 2)</th>\n",
       "      <td>100</td>\n",
       "      <td>16</td>\n",
       "      <td>16.000000</td>\n",
       "    </tr>\n",
       "    <tr>\n",
       "      <th>(2018, 3)</th>\n",
       "      <td>67</td>\n",
       "      <td>8</td>\n",
       "      <td>11.940299</td>\n",
       "    </tr>\n",
       "    <tr>\n",
       "      <th>(2018, 4)</th>\n",
       "      <td>12</td>\n",
       "      <td>2</td>\n",
       "      <td>16.666667</td>\n",
       "    </tr>\n",
       "  </tbody>\n",
       "</table>\n",
       "</div>"
      ],
      "text/plain": [
       "                   comment_published  toxicity  toxicity_rate\n",
       "comment_published                                            \n",
       "(2017, 1)                      17960      2822      15.712695\n",
       "(2017, 2)                     176336     25839      14.653276\n",
       "(2017, 3)                      20832      1593       7.646889\n",
       "(2017, 4)                      10642      1839      17.280586\n",
       "(2017, 5)                      95970     15436      16.084193\n",
       "(2017, 6)                      18693      2613      13.978495\n",
       "(2017, 7)                      14566      2316      15.900041\n",
       "(2017, 8)                      31564      2661       8.430490\n",
       "(2017, 9)                      93010     10122      10.882701\n",
       "(2017, 10)                     11513      1579      13.714931\n",
       "(2017, 11)                     57172     11051      19.329392\n",
       "(2017, 12)                     31143      3728      11.970587\n",
       "(2018, 1)                       1003        97       9.670987\n",
       "(2018, 2)                        100        16      16.000000\n",
       "(2018, 3)                         67         8      11.940299\n",
       "(2018, 4)                         12         2      16.666667"
      ]
     },
     "execution_count": 99,
     "metadata": {},
     "output_type": "execute_result"
    }
   ],
   "source": [
    "df2.head(20)"
   ]
  },
  {
   "cell_type": "code",
   "execution_count": 101,
   "metadata": {},
   "outputs": [
    {
     "data": {
      "image/png": "[encoded data removed]",
      "text/plain": [
       "<matplotlib.figure.Figure at 0x12962f240>"
      ]
     },
     "metadata": {},
     "output_type": "display_data"
    }
   ],
   "source": [
    "df2.toxicity_rate.plot()\n",
    "plt.ylim(0,50)\n",
    "plt.show()"
   ]
  },
  {
   "cell_type": "code",
   "execution_count": 164,
   "metadata": {},
   "outputs": [
    {
     "data": {
      "image/png": "[encoded data removed]",
      "text/plain": [
       "<matplotlib.figure.Figure at 0x1355b0390>"
      ]
     },
     "metadata": {},
     "output_type": "display_data"
    }
   ],
   "source": [
    "toxicity_rate = df2.toxicity_rate.values\n",
    "average_toxicity = np.average(toxicity_rate) * np.ones(toxicity_rate.shape)\n",
    "month = np.arange(0,toxicity_rate.shape[0])\n",
    "plt.figure(figsize=(8,4))\n",
    "plt.ylim(0,40)\n",
    "my_xticks = ['Jan','Feb','Mar','Apr','May','Jun','Jul','Aug','Sep','Oct','Nov','Dec','Jan','Feb','Mar','Apr']\n",
    "plt.xticks(month, my_xticks)\n",
    "plt.plot(month,toxicity_rate,'m',month,average_toxicity,'g--')\n",
    "plt.grid()\n",
    "plt.xlabel('Month')\n",
    "plt.ylabel('Toxicity Rate')\n",
    "plt.title('Toxicity Rate Variations on CNN Facebook Page during 2017-18')\n",
    "plt.show()"
   ]
  },
  {
   "cell_type": "code",
   "execution_count": 74,
   "metadata": {},
   "outputs": [
    {
     "data": {
      "text/plain": [
       "580583"
      ]
     },
     "execution_count": 74,
     "metadata": {},
     "output_type": "execute_result"
    }
   ],
   "source": [
    "193446+387137"
   ]
  },
  {
   "cell_type": "code",
   "execution_count": 145,
   "metadata": {},
   "outputs": [],
   "source": [
    "average_toxicity = np.average(toxicity_rate) * np.ones(toxicity_rate.shape)\n"
   ]
  },
  {
   "cell_type": "code",
   "execution_count": 146,
   "metadata": {},
   "outputs": [
    {
     "data": {
      "text/plain": [
       "array([ 13.74138929,  13.74138929,  13.74138929,  13.74138929,\n",
       "        13.74138929,  13.74138929,  13.74138929,  13.74138929,\n",
       "        13.74138929,  13.74138929,  13.74138929,  13.74138929,\n",
       "        13.74138929,  13.74138929,  13.74138929,  13.74138929])"
      ]
     },
     "execution_count": 146,
     "metadata": {},
     "output_type": "execute_result"
    }
   ],
   "source": [
    "average_toxicity"
   ]
  },
  {
   "cell_type": "code",
   "execution_count": null,
   "metadata": {
    "collapsed": true
   },
   "outputs": [],
   "source": []
  }
 ],
 "metadata": {
  "kernelspec": {
   "display_name": "Python 3",
   "language": "python",
   "name": "python3"
  },
  "language_info": {
   "codemirror_mode": {
    "name": "ipython",
    "version": 3
   },
   "file_extension": ".py",
   "mimetype": "text/x-python",
   "name": "python",
   "nbconvert_exporter": "python",
   "pygments_lexer": "ipython3",
   "version": "3.6.1"
  }
 },
 "nbformat": 4,
 "nbformat_minor": 2
}
