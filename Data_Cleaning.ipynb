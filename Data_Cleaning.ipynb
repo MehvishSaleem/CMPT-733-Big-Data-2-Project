{
 "cells": [
  {
   "cell_type": "code",
   "execution_count": 19,
   "metadata": {},
   "outputs": [],
   "source": [
    "# Importing Libraries\n",
    "import numpy as np\n",
    "import pandas as pd\n",
    "import re\n",
    "import nltk\n",
    "from nltk.corpus import stopwords\n",
    "from nltk.stem import WordNetLemmatizer\n",
    "stop_words = stopwords.words('english')\n",
    "lemmatizer = WordNetLemmatizer()"
   ]
  },
  {
   "cell_type": "code",
   "execution_count": 64,
   "metadata": {
    "collapsed": true
   },
   "outputs": [],
   "source": [
    "# Function to read comments file of different pages\n",
    "def read_file(file_path):\n",
    "    df = pd.read_csv(file_path)\n",
    "    return df\n",
    "\n",
    "# List containing paths of all the pages\n",
    "page_list = ['cnn_facebook_comments.csv','FoxNews_facebook_comments.csv','TheYoungTurks_facebook_comments.csv',\\\n",
    "            'BuzzFeed_facebook_comments.csv','9gag_facebook_comments.csv','NowThisEntertainment_facebook_comments.csv',\\\n",
    "            'Arsenal_facebook_comments.csv','nba_facebook_comments.csv','NFL_facebook_comments.csv']\n",
    "\n",
    "# Combining data from all pages and randomly sampling 10000 comments.\n",
    "chunks =[]\n",
    "for page in page_list:\n",
    "    df_page = read_file(page)\n",
    "    chunks.append(df_page)\n",
    "    df_concat = pd.concat(chunks,ignore_index=True)\n",
    "df_concat = df_concat['comment_message'].sample(n=10000,random_state =10)"
   ]
  },
  {
   "cell_type": "code",
   "execution_count": 65,
   "metadata": {},
   "outputs": [],
   "source": [
    "def text_cleaning(comment):\n",
    "    comment = comment.lower()                               # Converting comments into lowercase\n",
    "    comment = comment.strip(\"b'\").strip('b\"')               # Removing b\",b' from start and end of comment \n",
    "    comment = re.sub(\"\\\\[\\\\[(.*?)\\\\]\\\\]\",\"\",comment)        # Removing GIFs and images from comments\n",
    "    comment = re.sub(r'\\\\x\\S+',\"\",comment)                  # Removing unwanted text , emojis etc.\n",
    "#   Replacing apostrophes\n",
    "    comment = re.sub(r\"'s\",' is',comment)                   \n",
    "    comment = re.sub(r\"'re\",' are',comment)\n",
    "    comment = re.sub(r\"'t\",' not',comment)\n",
    "    comment = re.sub(r\"'m\",' am',comment)\n",
    "    comment = re.sub(r\"'d\",' would',comment)\n",
    "    comment = re.sub(r\"'ll\",' will',comment)\n",
    "    comment = re.sub(r\"'ve\",' have',comment)\n",
    "    comment = re.sub('[.]', ' ', comment)\n",
    "    \n",
    "    comment = ''.join([c for c in comment if c not in ('!', '?' ,'.','\\\\','\"',',','-','$','%',\"'\")]) #Removing Punctuations and other signs\n",
    "    comment = re.sub(r'[0-9]',\"\",comment)                    # Removing numbers\n",
    "    comment = re.sub(r'http\\S+',\"\",comment)                  # Removing Url\n",
    "    comment = ' '.join([c for c in comment.split() if c not in stop_words])   # Removing stopwords\n",
    "    comment = ' '.join([lemmatizer.lemmatize(c) for c in comment.split()])    # Lemmatizing\n",
    "    return comment\n",
    "df_concat = df_concat.apply(lambda x: text_cleaning(x))\n",
    "df_concat = df_concat[df_concat.apply(lambda x: x is not \"\")]"
   ]
  },
  {
   "cell_type": "code",
   "execution_count": 67,
   "metadata": {},
   "outputs": [],
   "source": []
  },
  {
   "cell_type": "code",
   "execution_count": null,
   "metadata": {
    "collapsed": true
   },
   "outputs": [],
   "source": []
  }
 ],
 "metadata": {
  "anaconda-cloud": {},
  "kernelspec": {
   "display_name": "Python [default]",
   "language": "python",
   "name": "python3"
  },
  "language_info": {
   "codemirror_mode": {
    "name": "ipython",
    "version": 3
   },
   "file_extension": ".py",
   "mimetype": "text/x-python",
   "name": "python",
   "nbconvert_exporter": "python",
   "pygments_lexer": "ipython3",
   "version": "3.5.4"
  }
 },
 "nbformat": 4,
 "nbformat_minor": 2
}
