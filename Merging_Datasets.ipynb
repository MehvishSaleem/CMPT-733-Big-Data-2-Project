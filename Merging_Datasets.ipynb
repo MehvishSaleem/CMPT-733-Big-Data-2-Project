{
 "cells": [
  {
   "cell_type": "code",
   "execution_count": 1,
   "metadata": {
    "collapsed": true
   },
   "outputs": [],
   "source": [
    "import pandas as pd\n",
    "import numpy as np\n",
    "import matplotlib.pyplot as plt"
   ]
  },
  {
   "cell_type": "code",
   "execution_count": 2,
   "metadata": {
    "collapsed": true
   },
   "outputs": [],
   "source": [
    "def LoadDataSets():\n",
    "    dfSFU = pd.read_csv('Data/SFU_constructiveness_toxicity_corpus.csv')\n",
    "    dfWiki = pd.read_csv('Data/Wikipedia_train.csv')\n",
    "    return dfSFU,dfWiki"
   ]
  },
  {
   "cell_type": "code",
   "execution_count": 3,
   "metadata": {
    "collapsed": true
   },
   "outputs": [],
   "source": [
    "dfSFU,dfWiki = LoadDataSets()"
   ]
  },
  {
   "cell_type": "code",
   "execution_count": 4,
   "metadata": {
    "collapsed": true
   },
   "outputs": [],
   "source": [
    "def PreProcessSFU(dfSFU):\n",
    "    #Some comments have two ratings. The first one is more popular. Only that one is kept.\n",
    "    dfSFU['toxicity_level'] = dfSFU['toxicity_level'].apply(lambda x:x.splitlines())\n",
    "    dfSFU['toxicity_level_1'] = dfSFU['toxicity_level'].apply(lambda x:int(x[0]))\n",
    "    \n",
    "#There are also some expert ratings.\n",
    "#If there is an exper rating available, we use that instead of the crowd's opinion\n",
    "#Otherwise, the most popular crowd opinion is used.\n",
    "#Ratings of 1 and 2 are mapped to 0; 3 and 4 to 1\n",
    "#This is done to create an equivalence between SFU and Wikipedia (more toxic) datasets.\n",
    "    def mergeRatingsSFU(df):\n",
    "        if df['expert_toxicity_level'] != df['expert_toxicity_level']:\n",
    "            rating = df['toxicity_level_1']    \n",
    "        else:\n",
    "            rating = df['expert_toxicity_level']\n",
    "\n",
    "        if (rating == 0 or rating == 1):\n",
    "            df['merged_rating'] = 0\n",
    "        else:\n",
    "            df['merged_rating'] = 1\n",
    "        return df\n",
    "    dfSFU = dfSFU.apply(mergeRatingsSFU,axis=1)\n",
    "    \n",
    "    # Returning the comment and the final rating columns only\n",
    "    return dfSFU[['comment_text','merged_rating']]\n"
   ]
  },
  {
   "cell_type": "code",
   "execution_count": 5,
   "metadata": {
    "collapsed": true
   },
   "outputs": [],
   "source": [
    "#Applying preprocessing\n",
    "dfSFU = PreProcessSFU(dfSFU)"
   ]
  },
  {
   "cell_type": "code",
   "execution_count": 6,
   "metadata": {
    "collapsed": true
   },
   "outputs": [],
   "source": [
    "def PreProcessWiki(dfWiki):\n",
    "#If a comment is severly toxic, threatening, or obscene, it is rated as 2\n",
    "#Otherwise, if it is toxic or insulting, it is rated as 1\n",
    "#If non of the above, it is rated as 0\n",
    "\n",
    "    def mergeRatingsWiki(df):\n",
    "        if ((df['obscene']==1) or (df['threat']==1) or (df['severe_toxic']==1)):\n",
    "            df['merged_rating'] = 2\n",
    "        elif ((df['toxic'] ==1) or (df['insult']==1)):\n",
    "            df['merged_rating'] = 1\n",
    "        else:\n",
    "            df['merged_rating'] = 0\n",
    "        return df\n",
    "#     df_merged = dfWiki.iloc[0:1000,:].apply(mergeRatingsWiki,axis=1) #Use this to work with a portion of the data only\n",
    "    df_merged = dfWiki.apply(mergeRatingsWiki,axis=1)\n",
    "\n",
    "    \n",
    "    # Returning the comment and the final rating columns only\n",
    "    return df_merged[['comment_text','merged_rating']]\n"
   ]
  },
  {
   "cell_type": "code",
   "execution_count": 7,
   "metadata": {
    "collapsed": true
   },
   "outputs": [],
   "source": [
    "#Applying preprocessing\n",
    "dfWiki = PreProcessWiki(dfWiki)"
   ]
  },
  {
   "cell_type": "code",
   "execution_count": 8,
   "metadata": {
    "collapsed": true
   },
   "outputs": [],
   "source": [
    "#Combining the two datasets\n",
    "dfTrain = pd.concat([dfSFU,dfWiki])"
   ]
  },
  {
   "cell_type": "code",
   "execution_count": 12,
   "metadata": {},
   "outputs": [],
   "source": [
    "dfTrain.to_csv('Data/mergedDataSet.csv')"
   ]
  },
  {
   "cell_type": "code",
   "execution_count": null,
   "metadata": {
    "collapsed": true
   },
   "outputs": [],
   "source": []
  },
  {
   "cell_type": "code",
   "execution_count": null,
   "metadata": {
    "collapsed": true
   },
   "outputs": [],
   "source": []
  }
 ],
 "metadata": {
  "kernelspec": {
   "display_name": "Python 3",
   "language": "python",
   "name": "python3"
  },
  "language_info": {
   "codemirror_mode": {
    "name": "ipython",
    "version": 3
   },
   "file_extension": ".py",
   "mimetype": "text/x-python",
   "name": "python",
   "nbconvert_exporter": "python",
   "pygments_lexer": "ipython3",
   "version": "3.6.1"
  }
 },
 "nbformat": 4,
 "nbformat_minor": 2
}
