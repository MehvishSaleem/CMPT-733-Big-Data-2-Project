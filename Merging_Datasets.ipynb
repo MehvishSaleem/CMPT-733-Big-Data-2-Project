{
 "cells": [
  {
   "cell_type": "code",
   "execution_count": 1,
   "metadata": {
    "collapsed": true
   },
   "outputs": [],
   "source": [
    "import pandas as pd\n",
    "import numpy as np\n",
    "import matplotlib.pyplot as plt"
   ]
  },
  {
   "cell_type": "code",
   "execution_count": null,
   "metadata": {
    "collapsed": true
   },
   "outputs": [],
   "source": [
    "def LoadDataSets():\n",
    "    dfSFU = pd.read_csv('Data/SFU_constructiveness_toxicity_corpus.csv')\n",
    "    dfWiki = pd.read_csv('Data/Wikipedia_train.csv')\n",
    "    return dfSFU,dfWiki"
   ]
  },
  {
   "cell_type": "code",
   "execution_count": 2,
   "metadata": {
    "collapsed": true
   },
   "outputs": [],
   "source": [
    "dfSFU,dfWiki = LoadDataSets()"
   ]
  },
  {
   "cell_type": "code",
   "execution_count": 3,
   "metadata": {
    "collapsed": true
   },
   "outputs": [],
   "source": [
    "def PreProcessSFU(dfSFU):\n",
    "    #Some comments have two ratings. The first one is more popular. Only that one is kept.\n",
    "    dfSFU['toxicity_level'] = dfSFU['toxicity_level'].apply(lambda x:x.splitlines())\n",
    "    dfSFU['toxicity_level_1'] = dfSFU['toxicity_level'].apply(lambda x:int(x[0]))\n",
    "    \n",
    "#There are also some expert ratings.\n",
    "#If there is an exper rating available, we use that instead of the crowd's opinion\n",
    "#Otherwise, the most popular crowd opinion is used.\n",
    "#Ratings of 1 and 2 are mapped to 0; 3 and 4 to 1\n",
    "#This is done to create an equivalence between SFU and Wikipedia (more toxic) datasets.\n",
    "    def mergeRatingsSFU(df):\n",
    "        if df['expert_toxicity_level'] != df['expert_toxicity_level']:\n",
    "            rating = df['toxicity_level_1']    \n",
    "        else:\n",
    "            rating = df['expert_toxicity_level']\n",
    "\n",
    "        if (rating == 0 or rating == 1):\n",
    "            df['merged_rating'] = 0\n",
    "        else:\n",
    "            df['merged_rating'] = 1\n",
    "        return df\n",
    "    dfSFU = dfSFU.apply(mergeRatingsSFU,axis=1)\n",
    "    \n",
    "    # Returning the comment and the final rating columns only\n",
    "    return dfSFU[['comment_text','merged_rating']]\n"
   ]
  },
  {
   "cell_type": "code",
   "execution_count": 4,
   "metadata": {
    "collapsed": true
   },
   "outputs": [],
   "source": [
    "#Applying preprocessing\n",
    "dfSFU = PreProcessSFU(dfSFU)"
   ]
  },
  {
   "cell_type": "code",
   "execution_count": 7,
   "metadata": {},
   "outputs": [],
   "source": [
    "def PreProcessWiki(dfWiki):\n",
    "#If a comment is severly toxic, threatening, or obscene, it is rated as 2\n",
    "#Otherwise, if it is toxic or insulting, it is rated as 1\n",
    "#If non of the above, it is rated as 0\n",
    "\n",
    "    def mergeRatingsWiki(df):\n",
    "        if ((df['obscene']==1) or (df['threat']==1) or (df['severe_toxic']==1)):\n",
    "            df['merged_rating'] = 2\n",
    "        elif ((df['toxic'] ==1) or (df['insult']==1)):\n",
    "            df['merged_rating'] = 1\n",
    "        else:\n",
    "            df['merged_rating'] = 0\n",
    "        return df\n",
    "    df_merged = dfWiki.iloc[0:1000,:].apply(mergeRatingsWiki,axis=1) #Use this to work with a portion of the data only\n",
    "#     df_merged = dfWiki.apply(mergeRatingsWiki,axis=1)\n",
    "\n",
    "    \n",
    "    # Returning the comment and the final rating columns only\n",
    "    return df_merged[['comment_text','merged_rating']]\n"
   ]
  },
  {
   "cell_type": "code",
   "execution_count": 8,
   "metadata": {
    "collapsed": true
   },
   "outputs": [],
   "source": [
    "#Applying preprocessing\n",
    "dfWiki = PreProcessWiki(dfWiki)"
   ]
  },
  {
   "cell_type": "code",
   "execution_count": 11,
   "metadata": {
    "collapsed": true
   },
   "outputs": [],
   "source": [
    "#Combining the two datasets\n",
    "dfTrain = pd.concat([dfSFU,dfWiki])"
   ]
  },
  {
   "cell_type": "code",
   "execution_count": 13,
   "metadata": {},
   "outputs": [
    {
     "data": {
      "text/html": [
       "<div>\n",
       "<style>\n",
       "    .dataframe thead tr:only-child th {\n",
       "        text-align: right;\n",
       "    }\n",
       "\n",
       "    .dataframe thead th {\n",
       "        text-align: left;\n",
       "    }\n",
       "\n",
       "    .dataframe tbody tr th {\n",
       "        vertical-align: top;\n",
       "    }\n",
       "</style>\n",
       "<table border=\"1\" class=\"dataframe\">\n",
       "  <thead>\n",
       "    <tr style=\"text-align: right;\">\n",
       "      <th></th>\n",
       "      <th>comment_text</th>\n",
       "      <th>merged_rating</th>\n",
       "    </tr>\n",
       "  </thead>\n",
       "  <tbody>\n",
       "    <tr>\n",
       "      <th>0</th>\n",
       "      <td>While technology does march on, sometimes it t...</td>\n",
       "      <td>0</td>\n",
       "    </tr>\n",
       "    <tr>\n",
       "      <th>1</th>\n",
       "      <td>Everyone is still missing the point of what th...</td>\n",
       "      <td>0</td>\n",
       "    </tr>\n",
       "    <tr>\n",
       "      <th>2</th>\n",
       "      <td>You've never used an Apple product have you?</td>\n",
       "      <td>0</td>\n",
       "    </tr>\n",
       "    <tr>\n",
       "      <th>3</th>\n",
       "      <td>You may be using a blackberry. I'm still using...</td>\n",
       "      <td>0</td>\n",
       "    </tr>\n",
       "    <tr>\n",
       "      <th>4</th>\n",
       "      <td>Of course we all know, unfortunately, there is...</td>\n",
       "      <td>1</td>\n",
       "    </tr>\n",
       "    <tr>\n",
       "      <th>5</th>\n",
       "      <td>Simpson claims the budget surplus isn't a surp...</td>\n",
       "      <td>0</td>\n",
       "    </tr>\n",
       "    <tr>\n",
       "      <th>6</th>\n",
       "      <td>We have multiple generations where aboriginal ...</td>\n",
       "      <td>0</td>\n",
       "    </tr>\n",
       "    <tr>\n",
       "      <th>7</th>\n",
       "      <td>A good start to stop Violence against women an...</td>\n",
       "      <td>1</td>\n",
       "    </tr>\n",
       "    <tr>\n",
       "      <th>8</th>\n",
       "      <td>All of this energy should be directed at the p...</td>\n",
       "      <td>1</td>\n",
       "    </tr>\n",
       "    <tr>\n",
       "      <th>9</th>\n",
       "      <td>Time for the elders and chiefs to stand up to ...</td>\n",
       "      <td>1</td>\n",
       "    </tr>\n",
       "    <tr>\n",
       "      <th>10</th>\n",
       "      <td>Canada has done more than enough. No more!</td>\n",
       "      <td>0</td>\n",
       "    </tr>\n",
       "    <tr>\n",
       "      <th>11</th>\n",
       "      <td>A few of the comments point to the callousness...</td>\n",
       "      <td>0</td>\n",
       "    </tr>\n",
       "    <tr>\n",
       "      <th>12</th>\n",
       "      <td>There is a difference between Europe's and Can...</td>\n",
       "      <td>0</td>\n",
       "    </tr>\n",
       "    <tr>\n",
       "      <th>13</th>\n",
       "      <td>It's absolutely not racist, I've lived in Vanc...</td>\n",
       "      <td>0</td>\n",
       "    </tr>\n",
       "    <tr>\n",
       "      <th>14</th>\n",
       "      <td>I honestly cannot for the life of me understan...</td>\n",
       "      <td>0</td>\n",
       "    </tr>\n",
       "    <tr>\n",
       "      <th>15</th>\n",
       "      <td>Why does the Globe publish this kind of trash?</td>\n",
       "      <td>0</td>\n",
       "    </tr>\n",
       "    <tr>\n",
       "      <th>16</th>\n",
       "      <td>Playing the race card.</td>\n",
       "      <td>0</td>\n",
       "    </tr>\n",
       "    <tr>\n",
       "      <th>17</th>\n",
       "      <td>The historic head tax was meant to dissuade et...</td>\n",
       "      <td>0</td>\n",
       "    </tr>\n",
       "    <tr>\n",
       "      <th>18</th>\n",
       "      <td>One big difference not mentioned is that this ...</td>\n",
       "      <td>0</td>\n",
       "    </tr>\n",
       "    <tr>\n",
       "      <th>19</th>\n",
       "      <td>What a stupid article. I this what passes as s...</td>\n",
       "      <td>0</td>\n",
       "    </tr>\n",
       "  </tbody>\n",
       "</table>\n",
       "</div>"
      ],
      "text/plain": [
       "                                         comment_text  merged_rating\n",
       "0   While technology does march on, sometimes it t...              0\n",
       "1   Everyone is still missing the point of what th...              0\n",
       "2        You've never used an Apple product have you?              0\n",
       "3   You may be using a blackberry. I'm still using...              0\n",
       "4   Of course we all know, unfortunately, there is...              1\n",
       "5   Simpson claims the budget surplus isn't a surp...              0\n",
       "6   We have multiple generations where aboriginal ...              0\n",
       "7   A good start to stop Violence against women an...              1\n",
       "8   All of this energy should be directed at the p...              1\n",
       "9   Time for the elders and chiefs to stand up to ...              1\n",
       "10         Canada has done more than enough. No more!              0\n",
       "11  A few of the comments point to the callousness...              0\n",
       "12  There is a difference between Europe's and Can...              0\n",
       "13  It's absolutely not racist, I've lived in Vanc...              0\n",
       "14  I honestly cannot for the life of me understan...              0\n",
       "15     Why does the Globe publish this kind of trash?              0\n",
       "16                             Playing the race card.              0\n",
       "17  The historic head tax was meant to dissuade et...              0\n",
       "18  One big difference not mentioned is that this ...              0\n",
       "19  What a stupid article. I this what passes as s...              0"
      ]
     },
     "execution_count": 13,
     "metadata": {},
     "output_type": "execute_result"
    }
   ],
   "source": [
    "dfTrain.head(20)"
   ]
  },
  {
   "cell_type": "code",
   "execution_count": null,
   "metadata": {
    "collapsed": true
   },
   "outputs": [],
   "source": []
  },
  {
   "cell_type": "code",
   "execution_count": null,
   "metadata": {
    "collapsed": true
   },
   "outputs": [],
   "source": []
  }
 ],
 "metadata": {
  "kernelspec": {
   "display_name": "Python 3",
   "language": "python",
   "name": "python3"
  },
  "language_info": {
   "codemirror_mode": {
    "name": "ipython",
    "version": 3
   },
   "file_extension": ".py",
   "mimetype": "text/x-python",
   "name": "python",
   "nbconvert_exporter": "python",
   "pygments_lexer": "ipython3",
   "version": "3.6.1"
  }
 },
 "nbformat": 4,
 "nbformat_minor": 2
}
