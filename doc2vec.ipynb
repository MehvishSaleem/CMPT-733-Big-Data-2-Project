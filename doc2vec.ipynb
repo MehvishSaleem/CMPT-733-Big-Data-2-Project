{
 "cells": [
  {
   "cell_type": "code",
   "execution_count": 1,
   "metadata": {
    "collapsed": true
   },
   "outputs": [],
   "source": [
    "import numpy as np\n",
    "import pandas as pd\n",
    "import nltk\n",
    "import re\n",
    "from gensim.models.doc2vec import LabeledSentence\n",
    "from gensim.models import Doc2Vec\n",
    "from gensim.models.doc2vec import TaggedLineDocument\n",
    "from nltk.corpus import stopwords\n",
    "from sklearn.model_selection import train_test_split\n",
    "from imblearn.over_sampling import SMOTE \n"
   ]
  },
  {
   "cell_type": "code",
   "execution_count": 2,
   "metadata": {
    "collapsed": true
   },
   "outputs": [],
   "source": [
    "testing = False # Set to True to use small files for quick testing, false to use the entire training data\n",
    "if (testing):\n",
    "    filename = 'Data/mergedDataSet_test.csv' #Sample file used for quick testing\n",
    "    commentsFileName = 'Data/comments_small.csv'\n",
    "else:\n",
    "    filename = 'Data/mergedDataSet.csv' #The complete file\n",
    "    commentsFileName = 'Data/comments.csv'\n",
    "df = pd.read_csv(filename)\n",
    "# df = pd.read_csv(filename).iloc[0:10000]"
   ]
  },
  {
   "cell_type": "code",
   "execution_count": 117,
   "metadata": {
    "collapsed": true
   },
   "outputs": [],
   "source": [
    "# nltk.download('stopwords') # Download it if not already downloaded\n",
    "stop = stopwords.words('english')\n",
    "# stop = open('stop_words.txt','r').read().split()\n",
    "def RemoveStopWords(row):\n",
    "    row = row.lower().split() # converting to lower case and splitting\n",
    "    str1 = ''\n",
    "    for item in row:\n",
    "        if item not in stop: #removing stop words\n",
    "            item = re.sub(r'[^\\w\\s]','',item) #removing punctutions\n",
    "            str1 += (item + ' ')\n",
    "    return str1\n",
    "target = df['merged_rating'].values #Saving the target variable as a numpy array\n",
    "df = df['comment_text'].apply(RemoveStopWords)\n"
   ]
  },
  {
   "cell_type": "code",
   "execution_count": 118,
   "metadata": {
    "collapsed": true
   },
   "outputs": [],
   "source": [
    "df.to_csv(commentsFileName,index=False) # Writing the comments to a CSV file to be read by TaggedLineDocument next\n",
    "documents = TaggedLineDocument(commentsFileName) # Tags each sentence (0,1,2,...)"
   ]
  },
  {
   "cell_type": "code",
   "execution_count": 143,
   "metadata": {
    "collapsed": true
   },
   "outputs": [],
   "source": [
    "modelSize = 500 # Will represent each comment with a vector of size 500\n",
    "modelWindow = 8 \n",
    "model = Doc2Vec(documents, vector_size=modelSize, window=modelWindow, min_count=1, workers=4, dbow_words=1)\n",
    "# model.save('model_s500_w8') # Uncomment this to save the model to disk"
   ]
  },
  {
   "cell_type": "code",
   "execution_count": 144,
   "metadata": {
    "collapsed": true
   },
   "outputs": [],
   "source": [
    "#Creating a numpy array to keep the data and to be used by a machine learning model as the feature vector\n",
    "data = np.zeros((len(model.docvecs),len(model.docvecs[0])))\n",
    "for i in range(len(model.docvecs)):\n",
    "#     if (i%1000==1):\n",
    "#         print(i)\n",
    "    data[i]=model.docvecs[i]"
   ]
  },
  {
   "cell_type": "code",
   "execution_count": 7,
   "metadata": {
    "collapsed": true
   },
   "outputs": [],
   "source": [
    "sm = SMOTE(random_state=42)\n",
    "X_res, y_res = sm.fit_sample(data, target)\n",
    "\n",
    "dfData = pd.DataFrame(data=X_res,dtype=float)\n",
    "\n",
    "#dfData = dfData.apply(lambda row : row.values.reshape(1,modelSize).tolist(),axis=1).to_frame()\n",
    "#dfData[0] = dfData[0].apply(lambda x:x[0])\n",
    "#dfData = dfData.rename(columns={0: \"features\"})\n",
    "dfData['label']=y_res\n",
    "dfData.to_csv('Data/FeaturizedData.csv')"
   ]
  },
  {
   "cell_type": "code",
   "execution_count": 145,
   "metadata": {
    "collapsed": true
   },
   "outputs": [],
   "source": [
    "#Creating validation sets\n",
    "X_train, X_val, y_train, y_val = train_test_split(data,target, test_size=0.2, random_state=0)"
   ]
  },
  {
   "cell_type": "code",
   "execution_count": 147,
   "metadata": {
    "collapsed": true
   },
   "outputs": [],
   "source": [
    "sm = SMOTE(random_state=42)\n",
    "X_res, y_res = sm.fit_sample(X_train, y_train)"
   ]
  },
  {
   "cell_type": "code",
   "execution_count": 148,
   "metadata": {},
   "outputs": [
    {
     "name": "stdout",
     "output_type": "stream",
     "text": [
      "0: 115281\n",
      "1: 6274\n",
      "2: 6936\n",
      "0: 115281\n",
      "1: 115281\n",
      "2: 115281\n"
     ]
    }
   ],
   "source": [
    "def imbalances(y):\n",
    "    count_0 = 0\n",
    "    count_1 = 0\n",
    "    count_2 = 0\n",
    "    for i in y:\n",
    "        if(i==0):\n",
    "            count_0 +=1\n",
    "        elif(i==1):\n",
    "            count_1 +=1\n",
    "        else:\n",
    "            count_2 +=1\n",
    "    print('0:',count_0)\n",
    "    print('1:',count_1)\n",
    "    print('2:',count_2)\n",
    "\n",
    "imbalances(y_train)\n",
    "imbalances(y_res)"
   ]
  },
  {
   "cell_type": "code",
   "execution_count": 178,
   "metadata": {
    "collapsed": true
   },
   "outputs": [],
   "source": [
    "from sklearn.naive_bayes import GaussianNB\n",
    "from sklearn.model_selection import KFold\n",
    "from sklearn.metrics import precision_recall_fscore_support\n",
    "from imblearn.pipeline import make_pipeline\n",
    "from sklearn.ensemble import RandomForestClassifier\n",
    "from sklearn.svm import SVC\n",
    "from sklearn.linear_model import Perceptron"
   ]
  },
  {
   "cell_type": "code",
   "execution_count": null,
   "metadata": {},
   "outputs": [
    {
     "name": "stdout",
     "output_type": "stream",
     "text": [
      "started\n"
     ]
    }
   ],
   "source": [
    "print('started')\n",
    "clf = GaussianNB()\n",
    "# clf = Perceptron(penalty='l2',class_weight='balanced',max_iter=100)\n",
    "clf = RandomForestClassifier(random_state=0,n_estimators=50,max_depth=20)\n",
    "#clf = SVC(class_weight='balanced')\n",
    "pipeline = make_pipeline(clf)\n",
    "pipline_model = pipeline.fit(X_train, y_train)\n"
   ]
  },
  {
   "cell_type": "code",
   "execution_count": null,
   "metadata": {
    "collapsed": true
   },
   "outputs": [],
   "source": [
    "y_pred = pipline_model.predict(X_val)\n",
    "print(\"Number of mislabeled points out of a total %d points : %d\"%(y_val.shape[0],(y_val != y_pred).sum()))"
   ]
  },
  {
   "cell_type": "code",
   "execution_count": 212,
   "metadata": {},
   "outputs": [
    {
     "data": {
      "text/plain": [
       "(0.87702426807432809, 0.88821093920244065, 0.87476638343445634, None)"
      ]
     },
     "execution_count": 212,
     "metadata": {},
     "output_type": "execute_result"
    }
   ],
   "source": [
    "precision_recall_fscore_support(y_val,y_pred,average='weighted')"
   ]
  }
 ],
 "metadata": {
  "kernelspec": {
   "display_name": "Python 3",
   "language": "python",
   "name": "python3"
  },
  "language_info": {
   "codemirror_mode": {
    "name": "ipython",
    "version": 3
   },
   "file_extension": ".py",
   "mimetype": "text/x-python",
   "name": "python",
   "nbconvert_exporter": "python",
   "pygments_lexer": "ipython3",
   "version": "3.6.1"
  }
 },
 "nbformat": 4,
 "nbformat_minor": 2
}
